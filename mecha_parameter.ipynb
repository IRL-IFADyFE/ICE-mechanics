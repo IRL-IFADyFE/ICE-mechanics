{
 "cells": [
  {
   "cell_type": "code",
   "execution_count": 27,
   "id": "5318d08f-2d1a-421e-99ae-7a807000463d",
   "metadata": {
    "tags": []
   },
   "outputs": [],
   "source": [
    "import numpy as np\n",
    "from IPython.display import Latex"
   ]
  },
  {
   "cell_type": "code",
   "execution_count": 4,
   "id": "433f6727-d85a-41de-bd86-5b79476f4c1e",
   "metadata": {
    "tags": []
   },
   "outputs": [],
   "source": [
    "sigma_f = 1.5e6 #mega pascal\n",
    "E = 9e9  #giga pascal\n",
    "\n",
    "# dimensiones muestra\n",
    "D = 90e-3\n",
    "L = 200e-3\n",
    "g = 9.8\n",
    "\n",
    "P = sigma_f * np.pi*D*L / 2\n"
   ]
  },
  {
   "cell_type": "markdown",
   "id": "5c05aa41-121c-4adb-9fe0-07dd3118cb87",
   "metadata": {},
   "source": [
    "$\\sigma_f = 2 P / (\\pi D L)$"
   ]
  },
  {
   "cell_type": "code",
   "execution_count": 5,
   "id": "fd34543b-0ffe-417d-9fe7-2301f672e48e",
   "metadata": {
    "tags": []
   },
   "outputs": [
    {
     "data": {
      "text/plain": [
       "4.327704165659409"
      ]
     },
     "execution_count": 5,
     "metadata": {},
     "output_type": "execute_result"
    }
   ],
   "source": [
    "P/g/1000  # toneladas"
   ]
  },
  {
   "cell_type": "code",
   "execution_count": 7,
   "id": "b2fd77f1-b1c3-4a9c-9f22-56c6a1e94bc8",
   "metadata": {},
   "outputs": [],
   "source": [
    "epsilon = sigma_f /E\n",
    "delta = epsilon *D"
   ]
  },
  {
   "cell_type": "code",
   "execution_count": 9,
   "id": "928c56c8-77d9-4e45-8ba6-9257d91fac25",
   "metadata": {
    "tags": []
   },
   "outputs": [
    {
     "data": {
      "text/plain": [
       "14.999999999999998"
      ]
     },
     "execution_count": 9,
     "metadata": {},
     "output_type": "execute_result"
    }
   ],
   "source": [
    "delta*1e6 #en micrometros"
   ]
  },
  {
   "cell_type": "code",
   "execution_count": 25,
   "id": "a08fa672-6f69-4a15-bce7-f44b841b9d6a",
   "metadata": {
    "tags": []
   },
   "outputs": [],
   "source": [
    "#comportamiento de hielo en mar\n",
    "h = 0.5  #espesor de hielo\n",
    "A = 0.1  # altura ola metros\n",
    "k = 2*np.pi / 100  #numero de onda\n",
    "K = A * k**2\n",
    "\n",
    "eps_xx = K * h/2  #  desplazamiento  (delta / h)\n",
    "eps_c = eps_xx    #  desplazamiento critico\n",
    "\n",
    "freq = 0.1 # hz  frecuencia ola\n",
    "\n",
    "st_r = eps_c * freq #strain rate\n",
    "\n",
    "velocidad_desplazamiento = D * st_r \n"
   ]
  },
  {
   "cell_type": "code",
   "execution_count": 33,
   "id": "ab30f2a4-7bd8-4f80-b4a1-5db1364b836c",
   "metadata": {
    "tags": []
   },
   "outputs": [
    {
     "data": {
      "text/latex": [
       "Velocidad desplazamiento $0.0533$ mm/min"
      ],
      "text/plain": [
       "<IPython.core.display.Latex object>"
      ]
     },
     "metadata": {},
     "output_type": "display_data"
    }
   ],
   "source": [
    "velocidad_desplazamiento*1e3*60  ##mm/min\n",
    "display(Latex (f'Velocidad desplazamiento ${velocidad_desplazamiento*1e3*60:.4g}$ mm/min'))"
   ]
  },
  {
   "cell_type": "code",
   "execution_count": null,
   "id": "7d20cc6f-b9f3-4912-8343-bdee5789e16d",
   "metadata": {},
   "outputs": [],
   "source": []
  }
 ],
 "metadata": {
  "kernelspec": {
   "display_name": "Python 3 (ipykernel)",
   "language": "python",
   "name": "python3"
  },
  "language_info": {
   "codemirror_mode": {
    "name": "ipython",
    "version": 3
   },
   "file_extension": ".py",
   "mimetype": "text/x-python",
   "name": "python",
   "nbconvert_exporter": "python",
   "pygments_lexer": "ipython3",
   "version": "3.12.7"
  }
 },
 "nbformat": 4,
 "nbformat_minor": 5
}
