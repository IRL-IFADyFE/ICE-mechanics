{
 "cells": [
  {
   "cell_type": "code",
   "execution_count": 1,
   "id": "5318d08f-2d1a-421e-99ae-7a807000463d",
   "metadata": {
    "tags": []
   },
   "outputs": [],
   "source": [
    "import numpy as np\n"
   ]
  },
  {
   "cell_type": "code",
   "execution_count": 4,
   "id": "433f6727-d85a-41de-bd86-5b79476f4c1e",
   "metadata": {
    "tags": []
   },
   "outputs": [],
   "source": [
    "sigma_f = 1.5e6 #mega pascal\n",
    "E = 9e9  #giga pascal\n",
    "\n",
    "# dimensiones muestra\n",
    "D = 90e-3\n",
    "L = 200e-3\n",
    "g = 9.8\n",
    "\n",
    "P = sigma_f * np.pi*D*L / 2\n"
   ]
  },
  {
   "cell_type": "markdown",
   "id": "5c05aa41-121c-4adb-9fe0-07dd3118cb87",
   "metadata": {},
   "source": [
    "$\\sigma_f = 2 P / (\\pi D L)$"
   ]
  },
  {
   "cell_type": "code",
   "execution_count": 6,
   "id": "fd34543b-0ffe-417d-9fe7-2301f672e48e",
   "metadata": {
    "tags": []
   },
   "outputs": [
    {
     "data": {
      "text/plain": [
       "4.327704165659409"
      ]
     },
     "execution_count": 6,
     "metadata": {},
     "output_type": "execute_result"
    }
   ],
   "source": [
    "P/g/1000  # toneladas"
   ]
  },
  {
   "cell_type": "code",
   "execution_count": null,
   "id": "b2fd77f1-b1c3-4a9c-9f22-56c6a1e94bc8",
   "metadata": {},
   "outputs": [],
   "source": []
  }
 ],
 "metadata": {
  "kernelspec": {
   "display_name": "Python 3 (ipykernel)",
   "language": "python",
   "name": "python3"
  },
  "language_info": {
   "codemirror_mode": {
    "name": "ipython",
    "version": 3
   },
   "file_extension": ".py",
   "mimetype": "text/x-python",
   "name": "python",
   "nbconvert_exporter": "python",
   "pygments_lexer": "ipython3",
   "version": "3.12.7"
  }
 },
 "nbformat": 4,
 "nbformat_minor": 5
}
